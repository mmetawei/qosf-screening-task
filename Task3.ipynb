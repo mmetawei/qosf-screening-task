{
 "cells": [
  {
   "cell_type": "code",
   "execution_count": 16,
   "metadata": {},
   "outputs": [
    {
     "name": "stdout",
     "output_type": "stream",
     "text": [
      "RX 3.141592653589793 RZ 1.5707963267948966 RX 1.5707963267948966 RZ 1.5707963267948966 RZ np.pi "
     ]
    }
   ],
   "source": [
    "import qiskit\n",
    "import numpy as np\n",
    "input_circuit = ['X','H','RZ','np.pi','CZ']\n",
    "output_circuit = []\n",
    "for index, gate in enumerate(input_circuit):\n",
    "    if gate=='X':\n",
    "        output_circuit.append('RX')\n",
    "        output_circuit.append(np.pi)                    \n",
    "    elif gate=='Y':\n",
    "        output_circuit.append('RY')\n",
    "        output_circuit.append(np.pi)\n",
    "    elif gate=='Z':\n",
    "        output_circuit.append('RZ')\n",
    "        output_circuit.append(p.pi)\n",
    "    elif gate=='H':\n",
    "        output_circuit.append('RZ')\n",
    "        output_circuit.append(np.pi/2)\n",
    "        output_circuit.append('RX')\n",
    "        output_circuit.append(np.pi/2)\n",
    "        output_circuit.append('RZ')\n",
    "        output_circuit.append(np.pi/2)\n",
    "    elif gate=='I':\n",
    "        output_circuit.append('RX')\n",
    "        output_circuit.append(0)\n",
    "    elif gate=='RX':\n",
    "        output_circuit.append('RX')\n",
    "        output_circuit.append(input_circuit[index + 1])\n",
    "    elif gate=='RZ':\n",
    "        output_circuit.append('RZ')\n",
    "        output_circuit.append(input_circuit[index + 1])\n",
    "    elif gate=='CZ':\n",
    "        output_circuit.append('CZ')\n",
    "    else:\n",
    "        continue\n",
    "        \n",
    "   # elif gate=='CNOT':\n",
    "for out in output_circuit:\n",
    "    print(out, end=' ')\n",
    "        \n",
    "        "
   ]
  }
 ],
 "metadata": {
  "kernelspec": {
   "display_name": "Python 3",
   "language": "python",
   "name": "python3"
  },
  "language_info": {
   "codemirror_mode": {
    "name": "ipython",
    "version": 3
   },
   "file_extension": ".py",
   "mimetype": "text/x-python",
   "name": "python",
   "nbconvert_exporter": "python",
   "pygments_lexer": "ipython3",
   "version": "3.8.5"
  }
 },
 "nbformat": 4,
 "nbformat_minor": 4
}
