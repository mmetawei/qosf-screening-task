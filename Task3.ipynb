{
 "cells": [
  {
   "cell_type": "code",
   "execution_count": 22,
   "metadata": {},
   "outputs": [
    {
     "ename": "TypeError",
     "evalue": "unsupported operand type(s) for +=: 'float' and 'str'",
     "output_type": "error",
     "traceback": [
      "\u001b[1;31m---------------------------------------------------------------------------\u001b[0m",
      "\u001b[1;31mTypeError\u001b[0m                                 Traceback (most recent call last)",
      "\u001b[1;32m<ipython-input-22-e2d3d19aba11>\u001b[0m in \u001b[0;36m<module>\u001b[1;34m\u001b[0m\n\u001b[0;32m     44\u001b[0m         \u001b[0mphase\u001b[0m \u001b[1;33m=\u001b[0m \u001b[0minput_circuit\u001b[0m\u001b[1;33m[\u001b[0m\u001b[0mindex\u001b[0m \u001b[1;33m+\u001b[0m \u001b[1;36m1\u001b[0m\u001b[1;33m]\u001b[0m\u001b[1;33m\u001b[0m\u001b[1;33m\u001b[0m\u001b[0m\n\u001b[0;32m     45\u001b[0m         \u001b[0moutput_circuit\u001b[0m\u001b[1;33m.\u001b[0m\u001b[0mappend\u001b[0m\u001b[1;33m(\u001b[0m\u001b[0mphase\u001b[0m\u001b[1;33m)\u001b[0m\u001b[1;33m\u001b[0m\u001b[1;33m\u001b[0m\u001b[0m\n\u001b[1;32m---> 46\u001b[1;33m         \u001b[0mz_phase\u001b[0m \u001b[1;33m+=\u001b[0m \u001b[0mphase\u001b[0m\u001b[1;33m\u001b[0m\u001b[1;33m\u001b[0m\u001b[0m\n\u001b[0m\u001b[0;32m     47\u001b[0m     \u001b[1;32melif\u001b[0m \u001b[0mgate\u001b[0m\u001b[1;33m==\u001b[0m\u001b[1;34m'CZ'\u001b[0m\u001b[1;33m:\u001b[0m\u001b[1;33m\u001b[0m\u001b[1;33m\u001b[0m\u001b[0m\n\u001b[0;32m     48\u001b[0m         \u001b[0moutput_circuit\u001b[0m\u001b[1;33m.\u001b[0m\u001b[0mappend\u001b[0m\u001b[1;33m(\u001b[0m\u001b[1;34m'CZ'\u001b[0m\u001b[1;33m)\u001b[0m\u001b[1;33m\u001b[0m\u001b[1;33m\u001b[0m\u001b[0m\n",
      "\u001b[1;31mTypeError\u001b[0m: unsupported operand type(s) for +=: 'float' and 'str'"
     ]
    }
   ],
   "source": [
    "import qiskit\n",
    "import numpy as np\n",
    "#Assuming a Single Qubit serially wired gates\n",
    "#Only CNOT has a 2 Qubits input so the control bit is passed as an argument within the list\n",
    "# ALSO THE rotation phase is passed after the rotation gate \n",
    "input_circuit = ['X','H','RZ','np.pi','CZ']\n",
    "output_circuit = []\n",
    "# Knowing that the Rx gates in series are commutative then we can add up all phases and execute one Rx with the resulting phase\n",
    "x_phase = 0\n",
    "# We do the same with the Z phase\n",
    "z_phase = 0\n",
    "for index, gate in enumerate(input_circuit):\n",
    "    if gate=='X':\n",
    "        output_circuit.append('RX')\n",
    "        output_circuit.append(np.pi)\n",
    "        #x_phase += np.pi\n",
    "    elif gate=='Y':\n",
    "        output_circuit.append('RY')\n",
    "        output_circuit.append(np.pi)\n",
    "    elif gate=='Z':\n",
    "        output_circuit.append('RZ')\n",
    "        output_circuit.append(np.pi)\n",
    "        #x_phase += np.pi\n",
    "    elif gate=='H':\n",
    "        output_circuit.append('RZ')\n",
    "        output_circuit.append(np.pi/2)\n",
    "       # z_phase += (np.pi/2)\n",
    "        output_circuit.append('RX')\n",
    "        output_circuit.append(np.pi/2)\n",
    "        #x_phase += (np.pi/2)\n",
    "        output_circuit.append('RZ')\n",
    "        output_circuit.append(np.pi/2)\n",
    "        #z_phase += (np.pi/2)\n",
    "    elif gate=='I':\n",
    "        output_circuit.append('RX')\n",
    "        output_circuit.append(0)\n",
    "    elif gate=='RX':\n",
    "        output_circuit.append('RX')\n",
    "        phase = input_circuit[index + 1]\n",
    "        output_circuit.append(phase)\n",
    "        #x_phase += phase\n",
    "    elif gate=='RZ':\n",
    "        output_circuit.append('RZ')\n",
    "        phase = input_circuit[index + 1]\n",
    "        output_circuit.append(phase)\n",
    "        #z_phase += phase\n",
    "    elif gate=='CZ':\n",
    "        output_circuit.append('CZ')\n",
    "    else:\n",
    "        continue\n",
    "        \n",
    "   # elif gate=='CNOT':\n",
    "for out in output_circuit:\n",
    "    print(out, end=' ')\n",
    "print(\"Reduced Circuit is: RX %.5f RZ %.5f\" % x_phase , z_phase)\n",
    "        \n",
    "        "
   ]
  },
  {
   "cell_type": "code",
   "execution_count": null,
   "metadata": {},
   "outputs": [],
   "source": []
  }
 ],
 "metadata": {
  "kernelspec": {
   "display_name": "Python 3",
   "language": "python",
   "name": "python3"
  },
  "language_info": {
   "codemirror_mode": {
    "name": "ipython",
    "version": 3
   },
   "file_extension": ".py",
   "mimetype": "text/x-python",
   "name": "python",
   "nbconvert_exporter": "python",
   "pygments_lexer": "ipython3",
   "version": "3.8.5"
  }
 },
 "nbformat": 4,
 "nbformat_minor": 4
}
